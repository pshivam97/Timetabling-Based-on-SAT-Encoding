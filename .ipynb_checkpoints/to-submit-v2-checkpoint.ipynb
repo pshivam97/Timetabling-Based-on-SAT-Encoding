{
 "cells": [
  {
   "cell_type": "code",
   "execution_count": 4,
   "metadata": {},
   "outputs": [],
   "source": [
    "! export LD_LIBRARY_PATH=$LD_LIBRARY_PATH:~/workspace/z3-4.7.1-x64-debian-8.10/bin\n",
    "! export PYTHONPATH=~/workspace/z3-4.7.1-x64-debian-8.10/bin/python"
   ]
  },
  {
   "cell_type": "code",
   "execution_count": 5,
   "metadata": {},
   "outputs": [],
   "source": [
    "# Starting time\n",
    "import time\n",
    "start_time_of_program = time.time()"
   ]
  },
  {
   "cell_type": "code",
   "execution_count": 7,
   "metadata": {},
   "outputs": [
    {
     "ename": "ModuleNotFoundError",
     "evalue": "No module named 'z3'",
     "output_type": "error",
     "traceback": [
      "\u001b[0;31m---------------------------------------------------------------------------\u001b[0m",
      "\u001b[0;31mModuleNotFoundError\u001b[0m                       Traceback (most recent call last)",
      "\u001b[0;32m<ipython-input-7-8bfa7c330160>\u001b[0m in \u001b[0;36m<module>\u001b[0;34m()\u001b[0m\n\u001b[1;32m      1\u001b[0m \u001b[0;31m# Importing libraries\u001b[0m\u001b[0;34m\u001b[0m\u001b[0;34m\u001b[0m\u001b[0m\n\u001b[0;32m----> 2\u001b[0;31m \u001b[0;32mfrom\u001b[0m \u001b[0mz3\u001b[0m \u001b[0;32mimport\u001b[0m \u001b[0;34m*\u001b[0m\u001b[0;34m\u001b[0m\u001b[0m\n\u001b[0m\u001b[1;32m      3\u001b[0m \u001b[0;32mfrom\u001b[0m \u001b[0mitertools\u001b[0m \u001b[0;32mimport\u001b[0m \u001b[0mpermutations\u001b[0m\u001b[0;34m\u001b[0m\u001b[0m\n\u001b[1;32m      4\u001b[0m \u001b[0;32mimport\u001b[0m \u001b[0mitertools\u001b[0m\u001b[0;34m\u001b[0m\u001b[0m\n",
      "\u001b[0;31mModuleNotFoundError\u001b[0m: No module named 'z3'"
     ]
    }
   ],
   "source": [
    "# Importing libraries\n",
    "from z3 import *\n",
    "from itertools import permutations \n",
    "import itertools"
   ]
  },
  {
   "cell_type": "code",
   "execution_count": null,
   "metadata": {},
   "outputs": [],
   "source": [
    "# Importing input file\n",
    "import json\n",
    "with open('newinp1.json') as f:\n",
    "    input_dict = json.load(f)"
   ]
  },
  {
   "cell_type": "code",
   "execution_count": null,
   "metadata": {},
   "outputs": [],
   "source": [
    "# Viewing input dictionary\n",
    "import pprint\n",
    "pprint.pprint(input_dict)"
   ]
  },
  {
   "cell_type": "code",
   "execution_count": null,
   "metadata": {},
   "outputs": [],
   "source": [
    "# Type to Room Dictionary\n",
    "type_to_room_dict = {}\n",
    "for x in input_dict['Room Types']:\n",
    "    type_to_room_dict[x] = []\n",
    "for x in input_dict['Classrooms']:\n",
    "    type_to_room_dict[x[1]].append(x[0])\n",
    "type_to_room_dict"
   ]
  },
  {
   "cell_type": "code",
   "execution_count": null,
   "metadata": {},
   "outputs": [],
   "source": [
    "# List of room and dictionary from room to its index\n",
    "room_list = []\n",
    "for key,value in type_to_room_dict.items():\n",
    "    room_list.extend(value)\n",
    "print(room_list)\n",
    "room_to_index = {x:y for y,x in enumerate(room_list)}\n",
    "print(room_to_index)"
   ]
  },
  {
   "cell_type": "code",
   "execution_count": null,
   "metadata": {},
   "outputs": [],
   "source": [
    "# Days and periods\n",
    "day_list_tmp = []\n",
    "for j in range(5):\n",
    "    for x in input_dict[\"Institute time\"]:\n",
    "        lower_bound = x[0]\n",
    "        upper_bound = x[1]\n",
    "        day_list_tmp.append(int((upper_bound -lower_bound)/.5))\n",
    "day_dict = {}\n",
    "for i in range(len(day_list_tmp)):\n",
    "    day_dict[i+1] = list(range(1,day_list_tmp[i] + 1))\n",
    "day_list = list(range(1,1+len(day_list_tmp)))\n",
    "def periods(d):\n",
    "    return day_dict[d]\n",
    "print(day_list)\n",
    "pprint.pprint(day_dict)"
   ]
  },
  {
   "cell_type": "code",
   "execution_count": null,
   "metadata": {},
   "outputs": [],
   "source": [
    "# faculty list\n",
    "tmp_list = []\n",
    "for x in input_dict[\"Courses\"]:\n",
    "    for y in x[3]:\n",
    "        tmp_list.append(y)\n",
    "faculty_list = list(set(tmp_list))\n",
    "faculty_to_index = {x:y for y,x in enumerate(faculty_list)}\n",
    "\n",
    "print(faculty_list)\n",
    "print(faculty_to_index)"
   ]
  },
  {
   "cell_type": "code",
   "execution_count": null,
   "metadata": {},
   "outputs": [],
   "source": [
    "# batch list\n",
    "tmp_list = []\n",
    "for x in input_dict[\"Courses\"]:\n",
    "    tmp_list.append(x[4])\n",
    "batch_list = list(set(tmp_list))\n",
    "batch_to_index = {x:y for y,x in enumerate(batch_list)}\n",
    "print(batch_list)"
   ]
  },
  {
   "cell_type": "code",
   "execution_count": null,
   "metadata": {},
   "outputs": [],
   "source": [
    "# Course list\n",
    "course_list = input_dict[\"Courses\"]\n",
    "print(course_list)"
   ]
  },
  {
   "cell_type": "code",
   "execution_count": null,
   "metadata": {},
   "outputs": [],
   "source": [
    "# Here we are taking only first faculty in the list and we will write the codition on other faculties of the course later\n",
    "\n",
    "tsgn = []\n",
    "for s in range(len(course_list)):\n",
    "    # Getting number of lecture slots\n",
    "    n = len(course_list[s][2])\n",
    "    faculty_name_tmp = course_list[s][3][0]\n",
    "    g = course_list[s][4]\n",
    "    t = faculty_to_index[faculty_name_tmp]\n",
    "    for ni in range(1,n+1):\n",
    "        tsgn.append((t,s,g,ni))\n",
    "print(tsgn)"
   ]
  },
  {
   "cell_type": "code",
   "execution_count": null,
   "metadata": {},
   "outputs": [],
   "source": [
    "len(course_list[0][2])"
   ]
  },
  {
   "cell_type": "code",
   "execution_count": null,
   "metadata": {},
   "outputs": [],
   "source": [
    "# This function takes a tuple of (t,s,g,n) and gives n * .5 , where 'n' hours is the duration of class associated with this tsgn\n",
    "\n",
    "def duration(x_tsgn):\n",
    "    this_course = course_list[x_tsgn[1]]\n",
    "    this_lecture_list = this_course[2]\n",
    "    this_lecture_length = this_lecture_list[x_tsgn[3]-1]\n",
    "    return int(this_lecture_length / .5)"
   ]
  },
  {
   "cell_type": "code",
   "execution_count": null,
   "metadata": {},
   "outputs": [],
   "source": [
    "print(duration((2, 0, 2, 1)))"
   ]
  },
  {
   "cell_type": "code",
   "execution_count": null,
   "metadata": {},
   "outputs": [],
   "source": [
    "# This function will take index of a faculty and return a list containing indices of courses which are being taught\n",
    "# by this particular professor\n",
    "\n",
    "def lessons_t(t):\n",
    "    result = []\n",
    "    for x in tsgn:\n",
    "        if (x[0] == t):\n",
    "            result.append(x)\n",
    "    return result"
   ]
  },
  {
   "cell_type": "code",
   "execution_count": null,
   "metadata": {},
   "outputs": [],
   "source": [
    "print(lessons_t(1))"
   ]
  },
  {
   "cell_type": "code",
   "execution_count": null,
   "metadata": {},
   "outputs": [],
   "source": [
    "# This function will take a batch and return a list containing indices of courses which are being taught\n",
    "# to this particular batch\n",
    "\n",
    "def lessons_g(g):\n",
    "    result = []\n",
    "    for x in tsgn:\n",
    "        if (x[2] == g):\n",
    "            result.append(x)\n",
    "    return result"
   ]
  },
  {
   "cell_type": "code",
   "execution_count": null,
   "metadata": {},
   "outputs": [],
   "source": [
    "print(lessons_g(2))"
   ]
  },
  {
   "cell_type": "code",
   "execution_count": null,
   "metadata": {},
   "outputs": [],
   "source": [
    "# Some short-hands :-\n",
    "# VX.Y - Defining variables of set X.Y\n",
    "# CX.Y - Defining constraints of set X.Y"
   ]
  },
  {
   "cell_type": "code",
   "execution_count": null,
   "metadata": {},
   "outputs": [],
   "source": [
    "pd = dict() # Proposition Dictionary\n",
    "# V1.1\n",
    "for x in tsgn:\n",
    "    for d in day_list:\n",
    "        for p in range(min(periods(d)), 1 + max(periods(d)) - duration(x) + 1):\n",
    "            var_name = \"xdas\"+\"t\"+str(x[0])+\"s\"+str(x[1])+\"g\"+str(x[2])+\"n\"+str(x[3])+\"d\"+str(d)+\"p\"+str(p)\n",
    "            pd[var_name] = Bool(var_name)"
   ]
  },
  {
   "cell_type": "code",
   "execution_count": null,
   "metadata": {},
   "outputs": [],
   "source": [
    "# V1.2\n",
    "for x in tsgn:\n",
    "    for d in day_list:\n",
    "        for p in range(min(periods(d)), 1 + max(periods(d))):\n",
    "            var_name = \"x\"+\"t\"+str(x[0])+\"s\"+str(x[1])+\"g\"+str(x[2])+\"n\"+str(x[3])+\"d\"+str(d)+\"p\"+str(p)\n",
    "            pd[var_name] = Bool(var_name)"
   ]
  },
  {
   "cell_type": "code",
   "execution_count": null,
   "metadata": {},
   "outputs": [],
   "source": [
    "# C1.1\n",
    "constraint_1_1 = True\n",
    "for x in tsgn:\n",
    "    for d in day_list:\n",
    "        for p1 in range(min(periods(d)), 1 + max(periods(d)) - duration(x) + 1): \n",
    "            var_name1 = \"xdas\"+\"t\"+str(x[0])+\"s\"+str(x[1])+\"g\"+str(x[2])+\"n\"+str(x[3])+\"d\"+str(d)+\"p\"+str(p1)\n",
    "            for p2 in range(p1,1 + p1 + duration(x) - 1):\n",
    "                var_name2 = \"x\"+\"t\"+str(x[0])+\"s\"+str(x[1])+\"g\"+str(x[2])+\"n\"+str(x[3])+\"d\"+str(d)+\"p\"+str(p2)\n",
    "                constraint_1_1 = And(constraint_1_1,Implies(pd[var_name1], pd[var_name2]))"
   ]
  },
  {
   "cell_type": "code",
   "execution_count": null,
   "metadata": {},
   "outputs": [],
   "source": [
    "# C1.2\n",
    "constraint_1_2 = True\n",
    "tmp_true = True\n",
    "tmp_false = False\n",
    "for x in tsgn:\n",
    "    for d in day_list:\n",
    "        for p2 in range(min(periods(d)), 1 + max(periods(d))): \n",
    "            tmp = copy.deepcopy(tmp_false)\n",
    "            var_name2 = \"x\"+\"t\"+str(x[0])+\"s\"+str(x[1])+\"g\"+str(x[2])+\"n\"+str(x[3])+\"d\"+str(d)+\"p\"+str(p2)\n",
    "            for p1 in range(max(p2 - duration(x) + 1, min(periods(d))),1 + min((max(periods(d)) - duration(x) + 1),p2)):\n",
    "                var_name1 = \"xdas\"+\"t\"+str(x[0])+\"s\"+str(x[1])+\"g\"+str(x[2])+\"n\"+str(x[3])+\"d\"+str(d)+\"p\"+str(p1)\n",
    "                tmp = Or(tmp,pd[var_name1])\n",
    "            constraint_1_2 = And(constraint_1_2,Implies(pd[var_name2], tmp))"
   ]
  },
  {
   "cell_type": "code",
   "execution_count": null,
   "metadata": {},
   "outputs": [],
   "source": [
    "# V2.1\n",
    "for x in tsgn:\n",
    "    for d in day_list:\n",
    "        var_name = \"x\"+\"t\"+str(x[0])+\"s\"+str(x[1])+\"g\"+str(x[2])+\"n\"+str(x[3])+\"d\"+str(d)\n",
    "        pd[var_name] = Bool(var_name)"
   ]
  },
  {
   "cell_type": "code",
   "execution_count": null,
   "metadata": {},
   "outputs": [],
   "source": [
    "# C2.1\n",
    "constraint_2_1 = True\n",
    "for x in tsgn:\n",
    "    for d in day_list:\n",
    "        var_name2 = \"x\"+\"t\"+str(x[0])+\"s\"+str(x[1])+\"g\"+str(x[2])+\"n\"+str(x[3])+\"d\"+str(d)\n",
    "        for p in periods(d): \n",
    "            var_name1 = \"x\"+\"t\"+str(x[0])+\"s\"+str(x[1])+\"g\"+str(x[2])+\"n\"+str(x[3])+\"d\"+str(d)+\"p\"+str(p)\n",
    "            constraint_2_1 = And(constraint_2_1,Implies(pd[var_name1], pd[var_name2]))"
   ]
  },
  {
   "cell_type": "code",
   "execution_count": null,
   "metadata": {},
   "outputs": [],
   "source": [
    "# C2.2\n",
    "constraint_2_2 = True\n",
    "tmp_true = True\n",
    "tmp_false = False\n",
    "for x in tsgn:\n",
    "    for d in day_list:\n",
    "        tmp = copy.deepcopy(tmp_false)\n",
    "        var_name2 = \"x\"+\"t\"+str(x[0])+\"s\"+str(x[1])+\"g\"+str(x[2])+\"n\"+str(x[3])+\"d\"+str(d)\n",
    "        for p1 in periods(d):\n",
    "            var_name1 = \"x\"+\"t\"+str(x[0])+\"s\"+str(x[1])+\"g\"+str(x[2])+\"n\"+str(x[3])+\"d\"+str(d)+\"p\"+str(p1)\n",
    "            tmp = Or(tmp,pd[var_name1])\n",
    "        constraint_2_2 = And(constraint_2_2,Implies(pd[var_name2], tmp))"
   ]
  },
  {
   "cell_type": "code",
   "execution_count": null,
   "metadata": {},
   "outputs": [],
   "source": [
    "# C2.3\n",
    "constraint_2_3 = True\n",
    "for x in tsgn:\n",
    "    for d in day_list:\n",
    "        var_name2 = \"x\"+\"t\"+str(x[0])+\"s\"+str(x[1])+\"g\"+str(x[2])+\"n\"+str(x[3])+\"d\"+str(d)\n",
    "        for p in range(min(periods(d)), 1 + max(periods(d)) - duration(x) + 1):\n",
    "            var_name1 = \"xdas\"+\"t\"+str(x[0])+\"s\"+str(x[1])+\"g\"+str(x[2])+\"n\"+str(x[3])+\"d\"+str(d)+\"p\"+str(p)\n",
    "            constraint_2_3 = And(constraint_2_3,Implies(pd[var_name1], pd[var_name2]))"
   ]
  },
  {
   "cell_type": "code",
   "execution_count": null,
   "metadata": {},
   "outputs": [],
   "source": [
    "# C2.4\n",
    "constraint_2_4 = True\n",
    "tmp_true = True\n",
    "tmp_false = False\n",
    "for x in tsgn:\n",
    "    for d in day_list:\n",
    "        tmp = copy.deepcopy(tmp_false)\n",
    "        var_name2 = \"x\"+\"t\"+str(x[0])+\"s\"+str(x[1])+\"g\"+str(x[2])+\"n\"+str(x[3])+\"d\"+str(d)\n",
    "        for p1 in range(min(periods(d)), 1 + max(periods(d)) - duration(x) + 1):\n",
    "            var_name1 = \"xdas\"+\"t\"+str(x[0])+\"s\"+str(x[1])+\"g\"+str(x[2])+\"n\"+str(x[3])+\"d\"+str(d)+\"p\"+str(p1)\n",
    "            tmp = Or(tmp,pd[var_name1])\n",
    "        constraint_2_4 = And(constraint_2_4,Implies(pd[var_name2], tmp))"
   ]
  },
  {
   "cell_type": "code",
   "execution_count": null,
   "metadata": {},
   "outputs": [],
   "source": [
    "# V3.1\n",
    "for t in range(len(faculty_list)):\n",
    "    for d in day_list:\n",
    "        for p in periods(d):\n",
    "            var_name = \"x\"+\"t\"+str(t)+\"d\"+str(d)+\"p\"+str(p)\n",
    "            pd[var_name] = Bool(var_name)"
   ]
  },
  {
   "cell_type": "code",
   "execution_count": null,
   "metadata": {},
   "outputs": [],
   "source": [
    "# C3.1\n",
    "constraint_3_1 = True\n",
    "for x in tsgn:\n",
    "    for d in day_list:\n",
    "        for p in periods(d): \n",
    "            var_name1 = \"x\"+\"t\"+str(x[0])+\"s\"+str(x[1])+\"g\"+str(x[2])+\"n\"+str(x[3])+\"d\"+str(d)+\"p\"+str(p)\n",
    "            var_name2 = \"x\"+\"t\"+str(x[0])+\"d\"+str(d)+\"p\"+str(p)\n",
    "            constraint_3_1 = And(constraint_3_1,Implies(pd[var_name1], pd[var_name2]))"
   ]
  },
  {
   "cell_type": "code",
   "execution_count": null,
   "metadata": {},
   "outputs": [],
   "source": [
    "# C3.2\n",
    "constraint_3_2 = True\n",
    "tmp_true = True\n",
    "tmp_false = False\n",
    "for t in range(len(faculty_list)):\n",
    "    for d in day_list:\n",
    "        for p in periods(d): \n",
    "            tmp = copy.deepcopy(tmp_false)\n",
    "            var_name2 = \"x\"+\"t\"+str(t)+\"d\"+str(d)+\"p\"+str(p)\n",
    "            for x in lessons_t(t):\n",
    "                var_name1 = \"x\"+\"t\"+str(x[0])+\"s\"+str(x[1])+\"g\"+str(x[2])+\"n\"+str(x[3])+\"d\"+str(d)+\"p\"+str(p1)\n",
    "                tmp = Or(tmp,pd[var_name1])\n",
    "            constraint_3_2 = And(constraint_3_2,Implies(pd[var_name2], tmp))"
   ]
  },
  {
   "cell_type": "code",
   "execution_count": null,
   "metadata": {},
   "outputs": [],
   "source": [
    "# V4.1\n",
    "for g in batch_list:\n",
    "    for d in day_list:\n",
    "        for p in periods(d):\n",
    "            var_name = \"x\"+\"g\"+str(g)+\"d\"+str(d)+\"p\"+str(p)\n",
    "            pd[var_name] = Bool(var_name)"
   ]
  },
  {
   "cell_type": "code",
   "execution_count": null,
   "metadata": {},
   "outputs": [],
   "source": [
    "# C4.1\n",
    "constraint_4_1 = True\n",
    "for x in tsgn:\n",
    "    for d in day_list:\n",
    "        for p in periods(d): \n",
    "            var_name1 = \"x\"+\"t\"+str(x[0])+\"s\"+str(x[1])+\"g\"+str(x[2])+\"n\"+str(x[3])+\"d\"+str(d)+\"p\"+str(p)\n",
    "            var_name2 = \"x\"+\"g\"+str(x[2])+\"d\"+str(d)+\"p\"+str(p)\n",
    "            constraint_4_1 = And(constraint_3_1,Implies(pd[var_name1], pd[var_name2]))"
   ]
  },
  {
   "cell_type": "code",
   "execution_count": null,
   "metadata": {},
   "outputs": [],
   "source": [
    "# C4.2\n",
    "constraint_4_2 = True\n",
    "tmp_true = True\n",
    "tmp_false = False\n",
    "for g in batch_list:\n",
    "    for d in day_list:\n",
    "        for p in periods(d): \n",
    "            tmp = copy.deepcopy(tmp_false)\n",
    "            var_name2 = \"x\"+\"g\"+str(x[2])+\"d\"+str(d)+\"p\"+str(p)\n",
    "            for x in lessons_g(g):\n",
    "                var_name1 = \"x\"+\"t\"+str(x[0])+\"s\"+str(x[1])+\"g\"+str(x[2])+\"n\"+str(x[3])+\"d\"+str(d)+\"p\"+str(p)\n",
    "                tmp = Or(tmp,pd[var_name1])\n",
    "            constraint_4_2 = And(constraint_4_2,Implies(pd[var_name2], tmp))"
   ]
  },
  {
   "cell_type": "code",
   "execution_count": null,
   "metadata": {},
   "outputs": [],
   "source": [
    "# C5.1\n",
    "constraint_5_1 = True\n",
    "tmp_true = True\n",
    "tmp_false = False\n",
    "for x in tsgn:\n",
    "    tmp = copy.deepcopy(tmp_false)\n",
    "    for d in day_list:\n",
    "        var_name = \"x\"+\"t\"+str(x[0])+\"s\"+str(x[1])+\"g\"+str(x[2])+\"n\"+str(x[3])+\"d\"+str(d)\n",
    "        tmp = Or(tmp,pd[var_name])\n",
    "    constraint_5_1 = And(constraint_5_1,tmp)"
   ]
  },
  {
   "cell_type": "code",
   "execution_count": null,
   "metadata": {},
   "outputs": [],
   "source": [
    "# C5.2\n",
    "constraint_5_2 = True\n",
    "tmp_true = True\n",
    "tmp_false = False\n",
    "for x in tsgn:\n",
    "    for d in day_list:\n",
    "        tmp = copy.deepcopy(tmp_false)\n",
    "        var_name2 = \"x\"+\"t\"+str(x[0])+\"s\"+str(x[1])+\"g\"+str(x[2])+\"n\"+str(x[3])+\"d\"+str(d)\n",
    "        for p1 in range(min(periods(d)), 1 + max(periods(d)) - duration(x) + 1):\n",
    "            var_name1 = \"xdas\"+\"t\"+str(x[0])+\"s\"+str(x[1])+\"g\"+str(x[2])+\"n\"+str(x[3])+\"d\"+str(d)+\"p\"+str(p1)\n",
    "            tmp = Or(tmp,pd[var_name1])\n",
    "        constraint_5_2 = And(constraint_5_2,Implies(pd[var_name2], tmp))"
   ]
  },
  {
   "cell_type": "code",
   "execution_count": null,
   "metadata": {},
   "outputs": [],
   "source": [
    "# C6.1\n",
    "constraint_6_1 = True\n",
    "tmp_true = True\n",
    "tmp_false = False\n",
    "for x in tsgn:\n",
    "    tmp = copy.deepcopy(tmp_true)\n",
    "    for di in range(len(day_list)-1):\n",
    "        for dj in range(di+1,len(day_list)):\n",
    "            var_name2 = \"x\"+\"t\"+str(x[0])+\"s\"+str(x[1])+\"g\"+str(x[2])+\"n\"+str(x[3])+\"d\"+str(day_list[di])\n",
    "            var_name1 = \"x\"+\"t\"+str(x[0])+\"s\"+str(x[1])+\"g\"+str(x[2])+\"n\"+str(x[3])+\"d\"+str(day_list[dj])\n",
    "            tmp = And(tmp,Or(Not(pd[var_name1]),Not(pd[var_name2])))\n",
    "    constraint_6_1 = And(constraint_6_1,tmp)"
   ]
  },
  {
   "cell_type": "code",
   "execution_count": null,
   "metadata": {},
   "outputs": [],
   "source": [
    "# C6.2\n",
    "constraint_6_2 = True\n",
    "tmp_true = True\n",
    "tmp_false = False\n",
    "for x in tsgn:\n",
    "    for d in day_list:\n",
    "        tmp = copy.deepcopy(tmp_true)\n",
    "        for p1 in range(min(periods(d)), 1 + max(periods(d)) - duration(x) + 1): \n",
    "            for p2 in range(p1+1,1 + max(periods(d)) - duration(x) + 1):\n",
    "                var_name2 = \"xdas\"+\"t\"+str(x[0])+\"s\"+str(x[1])+\"g\"+str(x[2])+\"n\"+str(x[3])+\"d\"+str(d)+\"p\"+str(p1)\n",
    "                var_name1 = \"xdas\"+\"t\"+str(x[0])+\"s\"+str(x[1])+\"g\"+str(x[2])+\"n\"+str(x[3])+\"d\"+str(d)+\"p\"+str(p2)\n",
    "                tmp = And(tmp,Or(Not(pd[var_name1]),Not(pd[var_name2])))\n",
    "        constraint_6_2 = And(constraint_6_2,tmp)"
   ]
  },
  {
   "cell_type": "code",
   "execution_count": null,
   "metadata": {},
   "outputs": [],
   "source": [
    "# C7.1\n",
    "constraint_7_1 = True\n",
    "tmp_true = True\n",
    "tmp_false = False\n",
    "for g in batch_list:\n",
    "    for d in day_list:\n",
    "        for p in periods(d):\n",
    "            tmp = copy.deepcopy(tmp_true)\n",
    "            lg = lessons_g(g) # Lessons of batch g\n",
    "            for xi in range(len(lg)-1):\n",
    "                for xj in range(xi+1,len(lg)):\n",
    "                    x1 = lg[xi]\n",
    "                    x2 = lg[xj]\n",
    "                    var_name2 = \"x\"+\"t\"+str(x1[0])+\"s\"+str(x1[1])+\"g\"+str(x1[2])+\"n\"+str(x1[3])+\"d\"+str(d)+\"p\"+str(p)\n",
    "                    var_name1 = \"x\"+\"t\"+str(x2[0])+\"s\"+str(x2[1])+\"g\"+str(x2[2])+\"n\"+str(x2[3])+\"d\"+str(d)+\"p\"+str(p)\n",
    "                    tmp = And(tmp,Or(Not(pd[var_name1]),Not(pd[var_name2])))\n",
    "            constraint_7_1 = And(constraint_7_1,tmp)"
   ]
  },
  {
   "cell_type": "code",
   "execution_count": null,
   "metadata": {},
   "outputs": [],
   "source": [
    "# C7.2\n",
    "constraint_7_2 = True\n",
    "tmp_true = True\n",
    "tmp_false = False\n",
    "for t in range(len(faculty_list)):\n",
    "    for d in day_list:\n",
    "        for p in periods(d):\n",
    "            tmp = copy.deepcopy(tmp_true)\n",
    "            lt = lessons_t(t) # Lessons of teacher t\n",
    "            for xi in range(len(lt)-1):\n",
    "                for xj in range(xi+1,len(lt)):\n",
    "                    x1 = lg[xi]\n",
    "                    x2 = lg[xj]\n",
    "                    var_name2 = \"x\"+\"t\"+str(x1[0])+\"s\"+str(x1[1])+\"g\"+str(x1[2])+\"n\"+str(x1[3])+\"d\"+str(d)+\"p\"+str(p)\n",
    "                    var_name1 = \"x\"+\"t\"+str(x2[0])+\"s\"+str(x2[1])+\"g\"+str(x2[2])+\"n\"+str(x2[3])+\"d\"+str(d)+\"p\"+str(p)\n",
    "                    tmp = And(tmp,Or(Not(pd[var_name1]),Not(pd[var_name2])))\n",
    "            constraint_7_2 = And(constraint_7_2,tmp)"
   ]
  },
  {
   "cell_type": "code",
   "execution_count": null,
   "metadata": {},
   "outputs": [],
   "source": [
    "# This function will take a tuple (t,s,g,n) and return the list of indices of room which is of type st, where st is the room type\n",
    "# of course s\n",
    "\n",
    "def rooms(x_tsgn):\n",
    "    x_room_type = course_list[x_tsgn[1]][1]\n",
    "    x_room_list = type_to_room_dict[x_room_type]\n",
    "    return [room_to_index[x] for x in x_room_list]"
   ]
  },
  {
   "cell_type": "code",
   "execution_count": null,
   "metadata": {},
   "outputs": [],
   "source": [
    "rooms((1, 0, 2, 1))"
   ]
  },
  {
   "cell_type": "code",
   "execution_count": null,
   "metadata": {},
   "outputs": [],
   "source": [
    "# V5.1\n",
    "for x in tsgn:\n",
    "    for d in day_list:\n",
    "        for p in range(min(periods(d)), 1 + max(periods(d)) - duration(x) + 1):\n",
    "            for r in rooms(x):\n",
    "                var_name = \"xdas\"+\"t\"+str(x[0])+\"s\"+str(x[1])+\"g\"+str(x[2])+\"n\"+str(x[3])+\"d\"+str(d)+\"p\"+str(p)+\"r\"+str(r)\n",
    "                pd[var_name] = Bool(var_name)"
   ]
  },
  {
   "cell_type": "code",
   "execution_count": null,
   "metadata": {},
   "outputs": [],
   "source": [
    "# V5.2\n",
    "for x in tsgn:\n",
    "    for d in day_list:\n",
    "        for p in range(min(periods(d)), 1 + max(periods(d))):\n",
    "            for r in rooms(x):\n",
    "                var_name = \"x\"+\"t\"+str(x[0])+\"s\"+str(x[1])+\"g\"+str(x[2])+\"n\"+str(x[3])+\"d\"+str(d)+\"p\"+str(p)+\"r\"+str(r)\n",
    "                pd[var_name] = Bool(var_name)"
   ]
  },
  {
   "cell_type": "code",
   "execution_count": null,
   "metadata": {},
   "outputs": [],
   "source": [
    "# C9.1\n",
    "constraint_9_1 = True\n",
    "for x in tsgn:\n",
    "    for d in day_list:\n",
    "        for r in rooms(x):\n",
    "            for p1 in range(min(periods(d)), 1 + max(periods(d)) - duration(x) + 1): \n",
    "                for p2 in range(p1,1 + p1 + duration(x) - 1):\n",
    "                    var_name1 = \"xdas\"+\"t\"+str(x[0])+\"s\"+str(x[1])+\"g\"+str(x[2])+\"n\"+str(x[3])+\"d\"+str(d)+\"p\"+str(p1)+\"r\"+str(r)\n",
    "                    var_name2 = \"x\"+\"t\"+str(x[0])+\"s\"+str(x[1])+\"g\"+str(x[2])+\"n\"+str(x[3])+\"d\"+str(d)+\"p\"+str(p2)+\"r\"+str(r)\n",
    "                    constraint_9_1 = And(constraint_9_1,Implies(pd[var_name1], pd[var_name2]))"
   ]
  },
  {
   "cell_type": "code",
   "execution_count": null,
   "metadata": {},
   "outputs": [],
   "source": [
    "# C9.2\n",
    "constraint_9_2 = True\n",
    "tmp_true = True\n",
    "tmp_false = False\n",
    "for x in tsgn:\n",
    "    for d in day_list:\n",
    "        for r in rooms(x):\n",
    "            for p2 in range(min(periods(d)), 1 + max(periods(d))): \n",
    "                tmp = copy.deepcopy(tmp_false)\n",
    "                var_name2 = \"x\"+\"t\"+str(x[0])+\"s\"+str(x[1])+\"g\"+str(x[2])+\"n\"+str(x[3])+\"d\"+str(d)+\"p\"+str(p2)+\"r\"+str(r)\n",
    "                for p1 in range(max(p2 - duration(x) + 1, min(periods(d))),1 + min((max(periods(d)) - duration(x) + 1),p2)):\n",
    "                    var_name1 = \"xdas\"+\"t\"+str(x[0])+\"s\"+str(x[1])+\"g\"+str(x[2])+\"n\"+str(x[3])+\"d\"+str(d)+\"p\"+str(p1)+\"r\"+str(r)\n",
    "                    tmp = Or(tmp,pd[var_name1])\n",
    "                constraint_9_2 = And(constraint_9_2,Implies(pd[var_name2], tmp))"
   ]
  },
  {
   "cell_type": "code",
   "execution_count": null,
   "metadata": {},
   "outputs": [],
   "source": [
    "# C10.1\n",
    "constraint_10_1 = True\n",
    "for x in tsgn:\n",
    "    for d in day_list:\n",
    "        for p in range(min(periods(d)), 1 + max(periods(d)) - duration(x) + 1): \n",
    "            for r in rooms(x):\n",
    "                var_name1 = \"xdas\"+\"t\"+str(x[0])+\"s\"+str(x[1])+\"g\"+str(x[2])+\"n\"+str(x[3])+\"d\"+str(d)+\"p\"+str(p)+\"r\"+str(r)\n",
    "                var_name2 = \"xdas\"+\"t\"+str(x[0])+\"s\"+str(x[1])+\"g\"+str(x[2])+\"n\"+str(x[3])+\"d\"+str(d)+\"p\"+str(p)\n",
    "                constraint_10_1 = And(constraint_10_1,Implies(pd[var_name1], pd[var_name2]))"
   ]
  },
  {
   "cell_type": "code",
   "execution_count": null,
   "metadata": {},
   "outputs": [],
   "source": [
    "# C10.3\n",
    "constraint_10_3 = True\n",
    "for x in tsgn:\n",
    "    for d in day_list:\n",
    "        for p in periods(d): \n",
    "            for r in rooms(x):\n",
    "                var_name1 = \"x\"+\"t\"+str(x[0])+\"s\"+str(x[1])+\"g\"+str(x[2])+\"n\"+str(x[3])+\"d\"+str(d)+\"p\"+str(p)+\"r\"+str(r)\n",
    "                var_name2 = \"x\"+\"t\"+str(x[0])+\"s\"+str(x[1])+\"g\"+str(x[2])+\"n\"+str(x[3])+\"d\"+str(d)+\"p\"+str(p)\n",
    "                constraint_10_3 = And(constraint_10_3,Implies(pd[var_name1], pd[var_name2]))"
   ]
  },
  {
   "cell_type": "code",
   "execution_count": null,
   "metadata": {},
   "outputs": [],
   "source": [
    "# C10.2\n",
    "constraint_10_2 = True\n",
    "tmp_true = True\n",
    "tmp_false = False\n",
    "for x in tsgn:\n",
    "    for d in day_list:\n",
    "        for p in range(min(periods(d)), 1 + max(periods(d)) - duration(x) + 1):\n",
    "            tmp = copy.deepcopy(tmp_false)\n",
    "            var_name2 = \"xdas\"+\"t\"+str(x[0])+\"s\"+str(x[1])+\"g\"+str(x[2])+\"n\"+str(x[3])+\"d\"+str(d)+\"p\"+str(p)\n",
    "            for r in rooms(x):\n",
    "                var_name1 = \"xdas\"+\"t\"+str(x[0])+\"s\"+str(x[1])+\"g\"+str(x[2])+\"n\"+str(x[3])+\"d\"+str(d)+\"p\"+str(p)+\"r\"+str(r)\n",
    "                tmp = Or(tmp,pd[var_name1])\n",
    "            constraint_10_2 = And(constraint_10_2,Implies(pd[var_name2], tmp))"
   ]
  },
  {
   "cell_type": "code",
   "execution_count": null,
   "metadata": {},
   "outputs": [],
   "source": [
    "# C10.4\n",
    "constraint_10_4 = True\n",
    "tmp_true = True\n",
    "tmp_false = False\n",
    "for x in tsgn:\n",
    "    for d in day_list:\n",
    "        for p in periods(d):\n",
    "            tmp = copy.deepcopy(tmp_false)\n",
    "            var_name2 = \"x\"+\"t\"+str(x[0])+\"s\"+str(x[1])+\"g\"+str(x[2])+\"n\"+str(x[3])+\"d\"+str(d)+\"p\"+str(p)\n",
    "            for r in rooms(x):\n",
    "                var_name1 = \"x\"+\"t\"+str(x[0])+\"s\"+str(x[1])+\"g\"+str(x[2])+\"n\"+str(x[3])+\"d\"+str(d)+\"p\"+str(p)+\"r\"+str(r)\n",
    "                tmp = Or(tmp,pd[var_name1])\n",
    "            constraint_10_4 = And(constraint_10_4,Implies(pd[var_name2], tmp))"
   ]
  },
  {
   "cell_type": "code",
   "execution_count": null,
   "metadata": {},
   "outputs": [],
   "source": [
    "# V6\n",
    "for t in range(len(faculty_list)):\n",
    "    for d in day_list:\n",
    "        for p in periods(d):\n",
    "            for r in range(len(room_list)):\n",
    "                var_name = \"x\"+\"t\"+str(t)+\"d\"+str(d)+\"p\"+str(p)+\"r\"+str(r)\n",
    "                pd[var_name] = Bool(var_name)"
   ]
  },
  {
   "cell_type": "code",
   "execution_count": null,
   "metadata": {},
   "outputs": [],
   "source": [
    "# C10.5\n",
    "constraint_10_5 = True\n",
    "for t in range(len(faculty_list)):\n",
    "    for d in day_list:\n",
    "        for p in periods(d): \n",
    "            for r in range(len(room_list)):\n",
    "                var_name1 = \"x\"+\"t\"+str(t)+\"d\"+str(d)+\"p\"+str(p)+\"r\"+str(r)\n",
    "                var_name2 = \"x\"+\"t\"+str(t)+\"d\"+str(d)+\"p\"+str(p)\n",
    "                constraint_10_5 = And(constraint_10_5,Implies(pd[var_name1], pd[var_name2]))"
   ]
  },
  {
   "cell_type": "code",
   "execution_count": null,
   "metadata": {},
   "outputs": [],
   "source": [
    "# C10.6\n",
    "constraint_10_6 = True\n",
    "tmp_true = True\n",
    "tmp_false = False\n",
    "for t in range(len(faculty_list)):\n",
    "    for d in day_list:\n",
    "        for p in periods(d): \n",
    "            tmp = copy.deepcopy(tmp_false)\n",
    "            var_name2 = \"x\"+\"t\"+str(t)+\"d\"+str(d)+\"p\"+str(p)\n",
    "            for r in range(len(room_list)):\n",
    "                var_name1 = \"x\"+\"t\"+str(t)+\"d\"+str(d)+\"p\"+str(p)+\"r\"+str(r)\n",
    "                tmp = Or(tmp,pd[var_name1])\n",
    "            constraint_10_6 = And(constraint_10_6,Implies(pd[var_name2], tmp))"
   ]
  },
  {
   "cell_type": "code",
   "execution_count": null,
   "metadata": {},
   "outputs": [],
   "source": [
    "# C11.1\n",
    "constraint_11_1 = True\n",
    "tmp_true = True\n",
    "tmp_false = False\n",
    "for d in day_list:\n",
    "    for p in periods(d): \n",
    "        for r in range(len(room_list)):\n",
    "            tmp = copy.deepcopy(tmp_true)\n",
    "            for ti in range(len(faculty_list)-1):\n",
    "                for tj in range(ti+1,len(faculty_list)):\n",
    "                    var_name2 = \"x\"+\"t\"+str(ti)+\"d\"+str(d)+\"p\"+str(p)+\"r\"+str(r)\n",
    "                    var_name1 = \"x\"+\"t\"+str(tj)+\"d\"+str(d)+\"p\"+str(p)+\"r\"+str(r)\n",
    "                    tmp = And(tmp,Or(Not(pd[var_name1]),Not(pd[var_name2])))\n",
    "            constraint_11_1 = And(constraint_11_1,tmp)"
   ]
  },
  {
   "cell_type": "code",
   "execution_count": null,
   "metadata": {},
   "outputs": [],
   "source": [
    "# C11.2\n",
    "constraint_11_2 = True\n",
    "tmp_true = True\n",
    "tmp_false = False\n",
    "for d in day_list:\n",
    "    for p in periods(d): \n",
    "        for t in range(len(faculty_list)):\n",
    "            tmp = copy.deepcopy(tmp_true)\n",
    "            for ri in range(len(room_list)-1):\n",
    "                for rj in range(ri+1,len(room_list)):\n",
    "                    var_name2 = \"x\"+\"t\"+str(t)+\"d\"+str(d)+\"p\"+str(p)+\"r\"+str(ri)\n",
    "                    var_name1 = \"x\"+\"t\"+str(t)+\"d\"+str(d)+\"p\"+str(p)+\"r\"+str(rj)\n",
    "                    tmp = And(tmp,Or(Not(pd[var_name1]),Not(pd[var_name2])))\n",
    "            constraint_11_2 = And(constraint_11_2,tmp)"
   ]
  },
  {
   "cell_type": "code",
   "execution_count": null,
   "metadata": {},
   "outputs": [],
   "source": [
    "# C12.1\n",
    "constraint_12_1 = True\n",
    "tmp_true = True\n",
    "tmp_false = False\n",
    "for x in tsgn:\n",
    "    for d in day_list:\n",
    "        for p in periods(d):\n",
    "            tmp = copy.deepcopy(tmp_true)\n",
    "            var_name2 = \"x\"+\"t\"+str(x[0])+\"s\"+str(x[1])+\"g\"+str(x[2])+\"n\"+str(x[3])+\"d\"+str(d)+\"p\"+str(p)\n",
    "            # Get faculties of the course s\n",
    "            x_f_list = course_list[x[1]][3]\n",
    "            if len(x_f_list) > 1:\n",
    "                x_f_list = x_f_list[1:]\n",
    "                t_list = [faculty_to_index[fi] for fi in x_f_list]\n",
    "                for t in t_list:\n",
    "                    var_name1 = \"x\"+\"t\"+str(t)+\"d\"+str(d)+\"p\"+str(p)\n",
    "                    tmp = And(tmp,Not(pd[var_name1]))\n",
    "                constraint_10_4 = And(constraint_10_4,Implies(pd[var_name2], tmp))"
   ]
  },
  {
   "cell_type": "code",
   "execution_count": null,
   "metadata": {},
   "outputs": [],
   "source": [
    "ff = True # Final formula\n",
    "ff = And(ff, constraint_1_1)\n",
    "ff = And(ff, constraint_1_2)\n",
    "ff = And(ff, constraint_2_1)\n",
    "ff = And(ff, constraint_2_2)\n",
    "ff = And(ff, constraint_2_3)\n",
    "ff = And(ff, constraint_2_4)\n",
    "ff = And(ff, constraint_3_1)\n",
    "ff = And(ff, constraint_3_2)\n",
    "ff = And(ff, constraint_4_1)\n",
    "ff = And(ff, constraint_4_2)\n",
    "ff = And(ff, constraint_5_1)\n",
    "ff = And(ff, constraint_5_2)\n",
    "ff = And(ff, constraint_6_1)\n",
    "ff = And(ff, constraint_6_2)\n",
    "ff = And(ff, constraint_7_1)\n",
    "ff = And(ff, constraint_7_2)\n",
    "ff = And(ff, constraint_9_1)\n",
    "ff = And(ff, constraint_9_2)\n",
    "ff = And(ff, constraint_10_1)\n",
    "ff = And(ff, constraint_10_2)\n",
    "ff = And(ff, constraint_10_3)\n",
    "ff = And(ff, constraint_10_4)\n",
    "ff = And(ff, constraint_10_5)\n",
    "ff = And(ff, constraint_10_6)\n",
    "ff = And(ff, constraint_11_1)\n",
    "ff = And(ff, constraint_11_2)\n",
    "ff = And(ff, constraint_12_1)\n",
    "\n",
    "# Solving and creating model\n",
    "s = Solver()\n",
    "s.add(ff)\n",
    "if str(s.check()) == \"sat\":\n",
    "    print(\"There exists a timetable which can satisfy the given constraints\")\n",
    "else :\n",
    "    print(\"There doesn't exist a timetable which can satisfy the given constraints\")\n",
    "m = s.model()"
   ]
  },
  {
   "cell_type": "code",
   "execution_count": null,
   "metadata": {
    "scrolled": false
   },
   "outputs": [],
   "source": [
    "final_timetable = []\n",
    "\n",
    "for x in tsgn:\n",
    "    for d in day_list:\n",
    "        for p in range(min(periods(d)), 1 + max(periods(d)) - duration(x) + 1):\n",
    "            for r in rooms(x):\n",
    "                var_name = \"xdas\"+\"t\"+str(x[0])+\"s\"+str(x[1])+\"g\"+str(x[2])+\"n\"+str(x[3])+\"d\"+str(d)+\"p\"+str(p)+\"r\"+str(r)\n",
    "                if (m.evaluate(pd[var_name])) : \n",
    "                    final_timetable.append(var_name)"
   ]
  },
  {
   "cell_type": "code",
   "execution_count": null,
   "metadata": {},
   "outputs": [],
   "source": [
    "x_course = []\n",
    "x_batch = []\n",
    "x_day = []\n",
    "x_period = []\n",
    "x_room = []\n",
    "x_teacher = []\n",
    "x_n_th_lecture = []\n",
    "\n",
    "for each_class in final_timetable:\n",
    "    indx_t = each_class.find(\"t\")\n",
    "    indx_s = each_class.find(\"s\",4)\n",
    "    indx_g = each_class.find(\"g\")\n",
    "    indx_n = each_class.find(\"n\")\n",
    "    indx_d = each_class.find(\"d\",3)\n",
    "    indx_p = each_class.find(\"p\")\n",
    "    indx_r = each_class.find(\"r\")\n",
    "\n",
    "    x_course.append(int(each_class[indx_s+1:indx_g]))\n",
    "    x_batch.append(int(each_class[indx_g+1:indx_n])) \n",
    "    x_day.append(int(each_class[indx_d+1:indx_p]))\n",
    "    x_period.append(int(each_class[indx_p+1:indx_r]))\n",
    "    x_room.append(int(each_class[indx_r+1:]))\n",
    "    x_teacher.append(int(each_class[indx_t+1:indx_s]))\n",
    "    x_n_th_lecture.append(int(each_class[indx_n+1:indx_d]))\n",
    "\n",
    "import pandas as pd\n",
    "\n",
    "df = pd.DataFrame({\n",
    "    'Course' : pd.Series(x_course),\n",
    "    'Batch' : pd.Series(x_batch),\n",
    "    'Day' : pd.Series(x_day),\n",
    "    'Period' : pd.Series(x_period),\n",
    "    'Room' : pd.Series(x_room),\n",
    "    'Teacher': pd.Series(x_teacher),\n",
    "    'n_th_lec': pd.Series(x_n_th_lecture)\n",
    "})\n",
    "\n",
    "df = df.sort_values(by=['Day', 'Period','Batch','Room'])"
   ]
  },
  {
   "cell_type": "code",
   "execution_count": null,
   "metadata": {
    "scrolled": true
   },
   "outputs": [],
   "source": [
    "from beautifultable import BeautifulTable\n",
    "timeTable = BeautifulTable()\n",
    "timeTable.column_headers = [\"COURSE\", \"BATCH\", \"DAY\",\"TIME\",\"VENUE\",\"FACULTY\"]\n",
    "\n",
    "period_to_time_if_morning = {1:\"8:30 am - 9:00 am\",2:\"9:00 am - 9:30 am\",3:\"9:30 am - 10:00 am\",4:\"10:00 am - 10:30 am\",5:\"10:30 am - 11:00 am\",6:\"11:00 am - 11:30 am\",7:\"11:30 am - 12:00 pm\",8:\"12:00 pm - 12:30 pm\"}\n",
    "period_to_time_if_evening = {1:\"2:00 pm - 2:30 pm\",2:\"2:30 pm - 3:00 pm\",3:\"3:00 pm - 3:30 pm\",4:\"3:30 pm - 4:00 pm\",5:\"4:00 pm - 4:30 pm\",6:\"4:30 pm - 5:00 pm\"}\n",
    "\n",
    "print(\"\\n\\n******************************** FINAL TIMETABLE SCHEDULED *******************************\\n\\n\")\n",
    "\n",
    "def final_scheduling_of_entire_timetable(final_timetable):\n",
    "    \n",
    "    for index, row in df.iterrows():\n",
    "    \n",
    "        x_teacher = row['Teacher']\n",
    "        x_course = row['Course']\n",
    "        x_batch = row['Batch']\n",
    "        x_n_th_lecture = row['n_th_lec']\n",
    "        x_day = row['Day']\n",
    "        x_period = row['Period']\n",
    "        x_room = row['Room']\n",
    "        \n",
    "        x_day_To_day = {1:'Monday',2:'Monday',3:'Tuesday',4:'Tuesday',5:'Wednesday',6:'Wednesday',7:'Thursday',8:'Thursday',9:'Friday',10:'Friday'}\n",
    "        \n",
    "        time_of_course = \"\"\n",
    "        \n",
    "        if x_day % 2 == 0 : # If it is \"Evening\" Session\n",
    "            duration_of_lecture = duration((x_teacher,x_course,x_batch,x_n_th_lecture))\n",
    "            st_dash_index = period_to_time_if_evening[x_period].find(\"-\")\n",
    "            start_time = period_to_time_if_evening[x_period][:st_dash_index]\n",
    "            et_dash_index = period_to_time_if_evening[x_period+duration_of_lecture-1].find(\"-\")\n",
    "            end_time = period_to_time_if_evening[x_period+duration_of_lecture-1][et_dash_index+1:]\n",
    "            time_of_course = start_time + \"-\" + end_time\n",
    "        \n",
    "        else : # If it is \"Morning\" Session\"\n",
    "            duration_of_lecture = duration((x_teacher,x_course,x_batch,x_n_th_lecture))\n",
    "            st_dash_index = period_to_time_if_morning[x_period].find(\"-\")\n",
    "            start_time = period_to_time_if_morning[x_period][:st_dash_index]\n",
    "            et_dash_index = period_to_time_if_morning[x_period+duration_of_lecture-1].find(\"-\")\n",
    "            end_time = period_to_time_if_morning[x_period+duration_of_lecture-1][et_dash_index+1:]\n",
    "            time_of_course = start_time + \"-\" + end_time \n",
    "        \n",
    "        facutlies_for_this_course = \",\".join(course_list[x_course][3])\n",
    "        timeTable.append_row([course_list[x_course][0], x_batch, x_day_To_day[x_day],time_of_course,room_list[x_room],facutlies_for_this_course])\n",
    "\n",
    "# Final Execution for printing the Time Table scheduled\n",
    "final_scheduling_of_entire_timetable(final_timetable)\n",
    "print(timeTable)\n",
    "\n"
   ]
  },
  {
   "cell_type": "code",
   "execution_count": null,
   "metadata": {},
   "outputs": [],
   "source": [
    "with open('timeTable.txt','w') as f:\n",
    "    f.write(\"\\n\\n******************************** FINAL TIMETABLE SCHEDULED *******************************\\n\\n\")\n",
    "    f.write(str(timeTable))"
   ]
  },
  {
   "cell_type": "code",
   "execution_count": null,
   "metadata": {},
   "outputs": [],
   "source": [
    "print(\"Execution Time :\",time.time() - start_time_of_program)"
   ]
  }
 ],
 "metadata": {
  "kernelspec": {
   "display_name": "Python 3",
   "language": "python",
   "name": "python3"
  },
  "language_info": {
   "codemirror_mode": {
    "name": "ipython",
    "version": 3
   },
   "file_extension": ".py",
   "mimetype": "text/x-python",
   "name": "python",
   "nbconvert_exporter": "python",
   "pygments_lexer": "ipython3",
   "version": "3.7.0"
  }
 },
 "nbformat": 4,
 "nbformat_minor": 2
}
